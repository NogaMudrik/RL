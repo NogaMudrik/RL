{
 "cells": [
  {
   "cell_type": "markdown",
   "metadata": {},
   "source": [
    "Helpful resources:\n",
    "https://github.com/simoninithomas/Deep_reinforcement_learning_Course/blob/master/Q%20learning/FrozenLake/Q%20Learning%20with%20FrozenLake.ipynb\n",
    "\n"
   ]
  },
  {
   "cell_type": "code",
   "execution_count": 3,
   "metadata": {
    "id": "Q-yiwx-dEz2N"
   },
   "outputs": [],
   "source": [
    "import gym\n",
    "import numpy as np\n",
    "import random\n",
    "import torch\n",
    "import time\n",
    "import matplotlib.pyplot as plt\n",
    "import pandas as pd"
   ]
  },
  {
   "cell_type": "code",
   "execution_count": 4,
   "metadata": {
    "id": "KOxNUQHRL5t_"
   },
   "outputs": [],
   "source": [
    "og_4x4 = ['SFFF',\n",
    "'FHFH',\n",
    "'FFFH',\n",
    "'HFFG']\n",
    "\n"
   ]
  },
  {
   "cell_type": "code",
   "execution_count": 11,
   "metadata": {
    "colab": {
     "base_uri": "https://localhost:8080/"
    },
    "id": "W_FdoKdqM0qt",
    "outputId": "fd5f978f-8bfd-4411-e6c5-0fcb63cd29dc"
   },
   "outputs": [],
   "source": [
    "env = gym.make('FrozenLake-v1', is_slippery=False, desc = og_4x4)\n",
    "\n",
    "env.reset()\n",
    "# visualize 4x4 frozen lake\n",
    "env.render()"
   ]
  },
  {
   "cell_type": "code",
   "execution_count": 8,
   "metadata": {},
   "outputs": [
    {
     "name": "stderr",
     "output_type": "stream",
     "text": [
      "C:\\Users\\noga mudrik\\Anaconda3\\lib\\site-packages\\gym\\envs\\registration.py:506: UserWarning: \u001b[33mWARN: The environment CartPole-v0 is out of date. You should consider upgrading to version `v1` with the environment ID `CartPole-v1`.\u001b[0m\n",
      "  f\"The environment {path} is out of date. You should consider \"\n",
      "C:\\Users\\noga mudrik\\Anaconda3\\lib\\site-packages\\gym\\envs\\classic_control\\cartpole.py:164: UserWarning: \u001b[33mWARN: You are calling 'step()' even though this environment has already returned done = True. You should always call 'reset()' once you receive 'done = True' -- any further steps are undefined behavior.\u001b[0m\n",
      "  \"You are calling 'step()' even though this \"\n"
     ]
    }
   ],
   "source": [
    "# env = gym.make('CartPole-v0')\n",
    "# env.reset()\n",
    "# for _ in range(1000):\n",
    "#     env.render()\n",
    "#     env.step(env.action_space.sample()) # take a random action\n",
    "# env.close()"
   ]
  },
  {
   "cell_type": "code",
   "execution_count": 12,
   "metadata": {
    "colab": {
     "base_uri": "https://localhost:8080/"
    },
    "id": "2U4M9EydYhrn",
    "outputId": "c50fa0a8-7932-4a44-88df-3435be54020f"
   },
   "outputs": [
    {
     "name": "stdout",
     "output_type": "stream",
     "text": [
      "States =  16\n",
      "Actions =  4\n"
     ]
    }
   ],
   "source": [
    "# Total number of States and Actions\n",
    "n_states = env.observation_space.n\n",
    "n_actions = env.action_space.n\n",
    "n_rows = 4\n",
    "n_cols = 4\n",
    "print( \"States = \", n_states)\n",
    "print( \"Actions = \", n_actions)"
   ]
  },
  {
   "cell_type": "code",
   "execution_count": 13,
   "metadata": {
    "id": "dkf7Y6uUZWcT"
   },
   "outputs": [],
   "source": [
    "def restrict_actions(Q, n_states, n_rows):\n",
    "\n",
    "  Q.at[n_states -1, :] = np.zeros(n_rows,)\n",
    "  for i in range( 0, n_states, n_rows): \n",
    "    Q.at[i,0] = np.NaN\n",
    "  for i in range( n_rows -1 , n_states, n_rows): \n",
    "    Q.at[i,2] = np.NaN\n",
    "  for i in range(0, n_rows):\n",
    "    Q.at[i,3] = np.NaN\n",
    "  for i in range(n_states - n_rows , n_states):\n",
    "    Q.at[i,1 ]= np.NaN\n",
    "  \n",
    "  return Q\n",
    "  "
   ]
  },
  {
   "cell_type": "code",
   "execution_count": 14,
   "metadata": {
    "id": "WZaLFyMBOtR6"
   },
   "outputs": [],
   "source": [
    "def rewarder(new_state, reward):\n",
    "  if og_4x4[rowsandcols(new_state)[0]][rowsandcols(new_state)[1]]== 'H':\n",
    "    reward -= 20\n",
    "  elif og_4x4[rowsandcols(new_state)[0]][rowsandcols(new_state)[1]]== 'F':\n",
    "    reward -= 1 \n",
    "  elif og_4x4[rowsandcols(new_state)[0]][rowsandcols(new_state)[1]]== 'S':\n",
    "    reward -= 1\n",
    "  else: #goal\n",
    "    reward += 100\n",
    "\n",
    "  return reward"
   ]
  },
  {
   "cell_type": "code",
   "execution_count": 15,
   "metadata": {
    "id": "etJ3l_EdNC7E"
   },
   "outputs": [],
   "source": [
    "def choose_action(Q, state, epsilon):\n",
    "  random_for_epsilon = np.random.rand()\n",
    "  if random_for_epsilon <= epsilon:\n",
    "    s = Q.loc[state].notna()\n",
    "    vals = s[s].index.values\n",
    "    action = random.choice(vals)\n",
    "  else: \n",
    "    Q.loc[state] += np.random.rand(n_actions,)/100\n",
    "    action = np.argmax(Q.loc[state])\n",
    "  return action"
   ]
  },
  {
   "cell_type": "code",
   "execution_count": 16,
   "metadata": {
    "id": "bc9jRORuNFkd"
   },
   "outputs": [],
   "source": [
    "##assign index to each state using state-matrix\n",
    "\n",
    "state_matrix = np.arange(0,n_states).reshape(n_rows,n_cols)\n",
    "state_matrix\n",
    "\n",
    "def rowsandcols(state):\n",
    "  ''' input: state returned by env\n",
    "      output: location of state as (row,col) tuple'''\n",
    "  return int(np.where(state_matrix ==state)[0]), int(np.where(state_matrix ==state)[1])"
   ]
  },
  {
   "cell_type": "code",
   "execution_count": 17,
   "metadata": {
    "id": "_8BCvWMUNTYE"
   },
   "outputs": [],
   "source": [
    "#### Initialize Q-table"
   ]
  },
  {
   "cell_type": "code",
   "execution_count": 18,
   "metadata": {
    "colab": {
     "base_uri": "https://localhost:8080/",
     "height": 521
    },
    "id": "DWl1X4Mk30No",
    "outputId": "e48979b7-f581-45be-9fc3-7e93e1ab98e9"
   },
   "outputs": [
    {
     "data": {
      "text/html": [
       "<div>\n",
       "<style scoped>\n",
       "    .dataframe tbody tr th:only-of-type {\n",
       "        vertical-align: middle;\n",
       "    }\n",
       "\n",
       "    .dataframe tbody tr th {\n",
       "        vertical-align: top;\n",
       "    }\n",
       "\n",
       "    .dataframe thead th {\n",
       "        text-align: right;\n",
       "    }\n",
       "</style>\n",
       "<table border=\"1\" class=\"dataframe\">\n",
       "  <thead>\n",
       "    <tr style=\"text-align: right;\">\n",
       "      <th></th>\n",
       "      <th>0</th>\n",
       "      <th>1</th>\n",
       "      <th>2</th>\n",
       "      <th>3</th>\n",
       "    </tr>\n",
       "  </thead>\n",
       "  <tbody>\n",
       "    <tr>\n",
       "      <th>0</th>\n",
       "      <td>0.000595</td>\n",
       "      <td>0.000043</td>\n",
       "      <td>0.000761</td>\n",
       "      <td>0.000412</td>\n",
       "    </tr>\n",
       "    <tr>\n",
       "      <th>1</th>\n",
       "      <td>0.000901</td>\n",
       "      <td>0.000101</td>\n",
       "      <td>0.000443</td>\n",
       "      <td>0.000846</td>\n",
       "    </tr>\n",
       "    <tr>\n",
       "      <th>2</th>\n",
       "      <td>0.000371</td>\n",
       "      <td>0.000359</td>\n",
       "      <td>0.000528</td>\n",
       "      <td>0.000156</td>\n",
       "    </tr>\n",
       "    <tr>\n",
       "      <th>3</th>\n",
       "      <td>0.000965</td>\n",
       "      <td>0.000868</td>\n",
       "      <td>0.000678</td>\n",
       "      <td>0.000431</td>\n",
       "    </tr>\n",
       "    <tr>\n",
       "      <th>4</th>\n",
       "      <td>0.000004</td>\n",
       "      <td>0.000645</td>\n",
       "      <td>0.000111</td>\n",
       "      <td>0.000239</td>\n",
       "    </tr>\n",
       "    <tr>\n",
       "      <th>5</th>\n",
       "      <td>0.000491</td>\n",
       "      <td>0.000947</td>\n",
       "      <td>0.000450</td>\n",
       "      <td>0.000610</td>\n",
       "    </tr>\n",
       "    <tr>\n",
       "      <th>6</th>\n",
       "      <td>0.000853</td>\n",
       "      <td>0.000956</td>\n",
       "      <td>0.000339</td>\n",
       "      <td>0.000006</td>\n",
       "    </tr>\n",
       "    <tr>\n",
       "      <th>7</th>\n",
       "      <td>0.000017</td>\n",
       "      <td>0.000344</td>\n",
       "      <td>0.000763</td>\n",
       "      <td>0.000470</td>\n",
       "    </tr>\n",
       "    <tr>\n",
       "      <th>8</th>\n",
       "      <td>0.000122</td>\n",
       "      <td>0.000322</td>\n",
       "      <td>0.000793</td>\n",
       "      <td>0.000186</td>\n",
       "    </tr>\n",
       "    <tr>\n",
       "      <th>9</th>\n",
       "      <td>0.000320</td>\n",
       "      <td>0.000868</td>\n",
       "      <td>0.000186</td>\n",
       "      <td>0.000933</td>\n",
       "    </tr>\n",
       "    <tr>\n",
       "      <th>10</th>\n",
       "      <td>0.000070</td>\n",
       "      <td>0.000819</td>\n",
       "      <td>0.000055</td>\n",
       "      <td>0.000038</td>\n",
       "    </tr>\n",
       "    <tr>\n",
       "      <th>11</th>\n",
       "      <td>0.000323</td>\n",
       "      <td>0.000040</td>\n",
       "      <td>0.000219</td>\n",
       "      <td>0.000722</td>\n",
       "    </tr>\n",
       "    <tr>\n",
       "      <th>12</th>\n",
       "      <td>0.000125</td>\n",
       "      <td>0.000848</td>\n",
       "      <td>0.000886</td>\n",
       "      <td>0.000069</td>\n",
       "    </tr>\n",
       "    <tr>\n",
       "      <th>13</th>\n",
       "      <td>0.000455</td>\n",
       "      <td>0.000508</td>\n",
       "      <td>0.000776</td>\n",
       "      <td>0.000450</td>\n",
       "    </tr>\n",
       "    <tr>\n",
       "      <th>14</th>\n",
       "      <td>0.000906</td>\n",
       "      <td>0.000702</td>\n",
       "      <td>0.000718</td>\n",
       "      <td>0.000210</td>\n",
       "    </tr>\n",
       "    <tr>\n",
       "      <th>15</th>\n",
       "      <td>0.000000</td>\n",
       "      <td>0.000000</td>\n",
       "      <td>0.000000</td>\n",
       "      <td>0.000000</td>\n",
       "    </tr>\n",
       "  </tbody>\n",
       "</table>\n",
       "</div>"
      ],
      "text/plain": [
       "           0         1         2         3\n",
       "0   0.000595  0.000043  0.000761  0.000412\n",
       "1   0.000901  0.000101  0.000443  0.000846\n",
       "2   0.000371  0.000359  0.000528  0.000156\n",
       "3   0.000965  0.000868  0.000678  0.000431\n",
       "4   0.000004  0.000645  0.000111  0.000239\n",
       "5   0.000491  0.000947  0.000450  0.000610\n",
       "6   0.000853  0.000956  0.000339  0.000006\n",
       "7   0.000017  0.000344  0.000763  0.000470\n",
       "8   0.000122  0.000322  0.000793  0.000186\n",
       "9   0.000320  0.000868  0.000186  0.000933\n",
       "10  0.000070  0.000819  0.000055  0.000038\n",
       "11  0.000323  0.000040  0.000219  0.000722\n",
       "12  0.000125  0.000848  0.000886  0.000069\n",
       "13  0.000455  0.000508  0.000776  0.000450\n",
       "14  0.000906  0.000702  0.000718  0.000210\n",
       "15  0.000000  0.000000  0.000000  0.000000"
      ]
     },
     "execution_count": 18,
     "metadata": {},
     "output_type": "execute_result"
    }
   ],
   "source": [
    "Q = pd.DataFrame(np.random.rand(n_states,n_actions)/1000)\n",
    "Q.loc[15] = np.zeros(n_actions,)\n",
    "#Q = restrict_actions(Q, n_states, n_rows)\n",
    "Q"
   ]
  },
  {
   "cell_type": "code",
   "execution_count": 21,
   "metadata": {
    "id": "Hj5IskDPPcCT"
   },
   "outputs": [],
   "source": [
    "epsilon = 0.8\n",
    "epsilon_final = 0.1\n",
    "epsilon_decay = 0.999\n",
    "gamma = 0.90 # discount factor\n",
    "learning_rate = 0.9 #how important is the difference between q-val from q-table and what's observed"
   ]
  },
  {
   "cell_type": "code",
   "execution_count": 22,
   "metadata": {
    "id": "ZZWfuWX-PiV3"
   },
   "outputs": [],
   "source": [
    "num_episodes = 1000\n",
    "steps_total = [] # store number of steps taken in each episode\n",
    "rewards_total = [] #store reward obtained for each episode\n",
    "epsilon_total = [] #store epsilon obtained at the end of each episode\n",
    "terminal_state = []"
   ]
  },
  {
   "cell_type": "code",
   "execution_count": 23,
   "metadata": {
    "colab": {
     "base_uri": "https://localhost:8080/"
    },
    "id": "ai7-U-UJQLO7",
    "outputId": "6bebee96-7b20-4801-c6cf-f91cfa287f26"
   },
   "outputs": [
    {
     "name": "stdout",
     "output_type": "stream",
     "text": [
      "Episode: 0 Reward: 0.0 Steps Taken: 6 Terminal State: H, Epsilon: 0.7992\n",
      "Episode: 10 Reward: 0.0 Steps Taken: 7 Terminal State: H, Epsilon: 0.7912438682636309\n",
      "Episode: 20 Reward: 0.0 Steps Taken: 4 Terminal State: H, Epsilon: 0.7833669407717642\n",
      "Episode: 30 Reward: 0.0 Steps Taken: 10 Terminal State: H, Epsilon: 0.7755684290366581\n",
      "Episode: 40 Reward: 0.0 Steps Taken: 2 Terminal State: H, Epsilon: 0.7678475524200608\n",
      "Episode: 50 Reward: 0.0 Steps Taken: 3 Terminal State: H, Epsilon: 0.7602035380550674\n",
      "Episode: 60 Reward: 0.0 Steps Taken: 7 Terminal State: H, Epsilon: 0.7526356207687559\n",
      "Episode: 70 Reward: 0.0 Steps Taken: 6 Terminal State: H, Epsilon: 0.7451430430055925\n",
      "Episode: 80 Reward: 0.0 Steps Taken: 3 Terminal State: H, Epsilon: 0.7377250547515992\n",
      "Episode: 90 Reward: 0.0 Steps Taken: 2 Terminal State: H, Epsilon: 0.7303809134592769\n",
      "Episode: 100 Reward: 0.0 Steps Taken: 3 Terminal State: H, Epsilon: 0.7231098839732764\n",
      "Episode: 110 Reward: 0.0 Steps Taken: 3 Terminal State: H, Epsilon: 0.7159112384568073\n",
      "Episode: 120 Reward: 0.0 Steps Taken: 9 Terminal State: H, Epsilon: 0.7087842563187822\n",
      "Episode: 130 Reward: 0.0 Steps Taken: 2 Terminal State: H, Epsilon: 0.7017282241416841\n",
      "Episode: 140 Reward: 0.0 Steps Taken: 4 Terminal State: H, Epsilon: 0.694742435610153\n",
      "Episode: 150 Reward: 0.0 Steps Taken: 3 Terminal State: H, Epsilon: 0.6878261914402828\n",
      "Episode: 160 Reward: 0.0 Steps Taken: 4 Terminal State: H, Epsilon: 0.6809787993096221\n",
      "Episode: 170 Reward: 0.0 Steps Taken: 7 Terminal State: H, Epsilon: 0.6741995737878729\n",
      "Episode: 180 Reward: 0.0 Steps Taken: 3 Terminal State: H, Epsilon: 0.6674878362682779\n",
      "Episode: 190 Reward: 0.0 Steps Taken: 3 Terminal State: H, Epsilon: 0.6608429148996913\n",
      "Episode: 200 Reward: 0.0 Steps Taken: 3 Terminal State: H, Epsilon: 0.6542641445193258\n",
      "Episode: 210 Reward: 0.0 Steps Taken: 2 Terminal State: H, Epsilon: 0.6477508665861693\n",
      "Episode: 220 Reward: 0.0 Steps Taken: 6 Terminal State: H, Epsilon: 0.6413024291150646\n",
      "Episode: 230 Reward: 0.0 Steps Taken: 5 Terminal State: H, Epsilon: 0.6349181866114447\n",
      "Episode: 240 Reward: 0.0 Steps Taken: 2 Terminal State: H, Epsilon: 0.6285975000067183\n",
      "Episode: 250 Reward: 0.0 Steps Taken: 3 Terminal State: H, Epsilon: 0.6223397365942986\n",
      "Episode: 260 Reward: 0.0 Steps Taken: 4 Terminal State: H, Epsilon: 0.6161442699662687\n",
      "Episode: 270 Reward: 0.0 Steps Taken: 2 Terminal State: H, Epsilon: 0.6100104799506774\n",
      "Episode: 280 Reward: 0.0 Steps Taken: 3 Terminal State: H, Epsilon: 0.6039377525494594\n",
      "Episode: 290 Reward: 0.0 Steps Taken: 5 Terminal State: H, Epsilon: 0.5979254798769741\n",
      "Episode: 300 Reward: 0.0 Steps Taken: 3 Terminal State: H, Epsilon: 0.5919730600991551\n",
      "Episode: 310 Reward: 0.0 Steps Taken: 2 Terminal State: H, Epsilon: 0.5860798973732659\n",
      "Episode: 320 Reward: 0.0 Steps Taken: 3 Terminal State: H, Epsilon: 0.5802454017882566\n",
      "Episode: 330 Reward: 0.0 Steps Taken: 3 Terminal State: H, Epsilon: 0.5744689893057117\n",
      "Episode: 340 Reward: 0.0 Steps Taken: 2 Terminal State: H, Epsilon: 0.5687500817013885\n",
      "Episode: 350 Reward: 0.0 Steps Taken: 6 Terminal State: H, Epsilon: 0.5630881065073355\n",
      "Episode: 360 Reward: 0.0 Steps Taken: 2 Terminal State: H, Epsilon: 0.557482496954589\n",
      "Episode: 370 Reward: 0.0 Steps Taken: 7 Terminal State: H, Epsilon: 0.5519326919164373\n",
      "Episode: 380 Reward: 0.0 Steps Taken: 2 Terminal State: H, Epsilon: 0.5464381358522531\n",
      "Episode: 390 Reward: 0.0 Steps Taken: 2 Terminal State: H, Epsilon: 0.5409982787518822\n",
      "Episode: 400 Reward: 0.0 Steps Taken: 2 Terminal State: H, Epsilon: 0.5356125760805872\n",
      "Episode: 410 Reward: 0.0 Steps Taken: 2 Terminal State: H, Epsilon: 0.5302804887245397\n",
      "Episode: 420 Reward: 0.0 Steps Taken: 2 Terminal State: H, Epsilon: 0.5250014829368536\n",
      "Episode: 430 Reward: 0.0 Steps Taken: 2 Terminal State: H, Epsilon: 0.5197750302841573\n",
      "Episode: 440 Reward: 0.0 Steps Taken: 6 Terminal State: H, Epsilon: 0.5146006075936969\n",
      "Episode: 450 Reward: 0.0 Steps Taken: 3 Terminal State: H, Epsilon: 0.5094776969009654\n",
      "Episode: 460 Reward: 0.0 Steps Taken: 2 Terminal State: H, Epsilon: 0.5044057853978547\n",
      "Episode: 470 Reward: 0.0 Steps Taken: 3 Terminal State: H, Epsilon: 0.49938436538132314\n",
      "Episode: 480 Reward: 0.0 Steps Taken: 6 Terminal State: H, Epsilon: 0.4944129342025731\n",
      "Episode: 490 Reward: 0.0 Steps Taken: 2 Terminal State: H, Epsilon: 0.48949099421673664\n",
      "Episode: 500 Reward: 0.0 Steps Taken: 2 Terminal State: H, Epsilon: 0.48461805273305963\n",
      "Episode: 510 Reward: 0.0 Steps Taken: 2 Terminal State: H, Epsilon: 0.47979362196558345\n",
      "Episode: 520 Reward: 0.0 Steps Taken: 2 Terminal State: H, Epsilon: 0.4750172189843173\n",
      "Episode: 530 Reward: 0.0 Steps Taken: 3 Terminal State: H, Epsilon: 0.47028836566689614\n",
      "Episode: 540 Reward: 0.0 Steps Taken: 2 Terminal State: H, Epsilon: 0.46560658865072047\n",
      "Episode: 550 Reward: 0.0 Steps Taken: 2 Terminal State: H, Epsilon: 0.460971419285572\n",
      "Episode: 560 Reward: 0.0 Steps Taken: 3 Terminal State: H, Epsilon: 0.4563823935867017\n",
      "Episode: 570 Reward: 0.0 Steps Taken: 4 Terminal State: H, Epsilon: 0.45183905218838427\n",
      "Episode: 580 Reward: 0.0 Steps Taken: 4 Terminal State: H, Epsilon: 0.44734094029793514\n",
      "Episode: 590 Reward: 0.0 Steps Taken: 3 Terminal State: H, Epsilon: 0.4428876076501854\n",
      "Episode: 600 Reward: 0.0 Steps Taken: 2 Terminal State: H, Epsilon: 0.4384786084624098\n",
      "Episode: 610 Reward: 0.0 Steps Taken: 2 Terminal State: H, Epsilon: 0.4341135013897036\n",
      "Episode: 620 Reward: 0.0 Steps Taken: 8 Terminal State: H, Epsilon: 0.4297918494808035\n",
      "Episode: 630 Reward: 0.0 Steps Taken: 9 Terminal State: H, Epsilon: 0.4255132201343483\n",
      "Episode: 640 Reward: 0.0 Steps Taken: 8 Terminal State: H, Epsilon: 0.42127718505557504\n",
      "Episode: 650 Reward: 0.0 Steps Taken: 3 Terminal State: H, Epsilon: 0.41708332021344663\n",
      "Episode: 660 Reward: 1.0 Steps Taken: 14 Terminal State: G, Epsilon: 0.4129312057982058\n",
      "Episode: 670 Reward: 1.0 Steps Taken: 8 Terminal State: G, Epsilon: 0.4088204261793515\n",
      "Episode: 680 Reward: 0.0 Steps Taken: 2 Terminal State: H, Epsilon: 0.40475056986403424\n",
      "Episode: 690 Reward: 1.0 Steps Taken: 10 Terminal State: G, Epsilon: 0.4007212294558651\n",
      "Episode: 700 Reward: 0.0 Steps Taken: 9 Terminal State: H, Epsilon: 0.3967320016141349\n",
      "Episode: 710 Reward: 0.0 Steps Taken: 3 Terminal State: H, Epsilon: 0.3927824870134399\n",
      "Episode: 720 Reward: 1.0 Steps Taken: 8 Terminal State: G, Epsilon: 0.38887229030370796\n",
      "Episode: 730 Reward: 1.0 Steps Taken: 6 Terminal State: G, Epsilon: 0.385001020070625\n",
      "Episode: 740 Reward: 1.0 Steps Taken: 13 Terminal State: G, Epsilon: 0.3811682887964528\n",
      "Episode: 750 Reward: 1.0 Steps Taken: 8 Terminal State: G, Epsilon: 0.37737371282123877\n",
      "Episode: 760 Reward: 0.0 Steps Taken: 6 Terminal State: H, Epsilon: 0.3736169123044112\n",
      "Episode: 770 Reward: 0.0 Steps Taken: 4 Terminal State: H, Epsilon: 0.36989751118675673\n",
      "Episode: 780 Reward: 0.0 Steps Taken: 8 Terminal State: H, Epsilon: 0.36621513715277654\n",
      "Episode: 790 Reward: 1.0 Steps Taken: 6 Terminal State: G, Epsilon: 0.36256942159341715\n",
      "Episode: 800 Reward: 0.0 Steps Taken: 12 Terminal State: H, Epsilon: 0.3589599995691724\n",
      "Episode: 810 Reward: 1.0 Steps Taken: 6 Terminal State: G, Epsilon: 0.3553865097735525\n",
      "Episode: 820 Reward: 1.0 Steps Taken: 14 Terminal State: G, Epsilon: 0.3518485944969173\n",
      "Episode: 830 Reward: 0.0 Steps Taken: 4 Terminal State: H, Epsilon: 0.34834589959066875\n",
      "Episode: 840 Reward: 1.0 Steps Taken: 7 Terminal State: G, Epsilon: 0.34487807443180063\n",
      "Episode: 850 Reward: 0.0 Steps Taken: 9 Terminal State: H, Epsilon: 0.3414447718878007\n",
      "Episode: 860 Reward: 1.0 Steps Taken: 8 Terminal State: G, Epsilon: 0.33804564828190237\n",
      "Episode: 870 Reward: 0.0 Steps Taken: 10 Terminal State: H, Epsilon: 0.33468036335868273\n",
      "Episode: 880 Reward: 1.0 Steps Taken: 6 Terminal State: G, Epsilon: 0.3313485802500021\n",
      "Episode: 890 Reward: 0.0 Steps Taken: 4 Terminal State: H, Epsilon: 0.3280499654412834\n",
      "Episode: 900 Reward: 1.0 Steps Taken: 9 Terminal State: G, Epsilon: 0.32478418873812753\n",
      "Episode: 910 Reward: 0.0 Steps Taken: 6 Terminal State: H, Epsilon: 0.32155092323325973\n",
      "Episode: 920 Reward: 1.0 Steps Taken: 13 Terminal State: G, Epsilon: 0.3183498452738065\n",
      "Episode: 930 Reward: 1.0 Steps Taken: 8 Terminal State: G, Epsilon: 0.3151806344288976\n",
      "Episode: 940 Reward: 1.0 Steps Taken: 7 Terminal State: G, Epsilon: 0.31204297345759036\n",
      "Episode: 950 Reward: 0.0 Steps Taken: 2 Terminal State: H, Epsilon: 0.3089365482771137\n",
      "Episode: 960 Reward: 0.0 Steps Taken: 4 Terminal State: H, Epsilon: 0.30586104793142815\n",
      "Episode: 970 Reward: 0.0 Steps Taken: 4 Terminal State: H, Epsilon: 0.30281616456009885\n"
     ]
    },
    {
     "name": "stdout",
     "output_type": "stream",
     "text": [
      "Episode: 980 Reward: 0.0 Steps Taken: 4 Terminal State: H, Epsilon: 0.29980159336747847\n",
      "Episode: 990 Reward: 1.0 Steps Taken: 6 Terminal State: G, Epsilon: 0.29681703259219694\n"
     ]
    }
   ],
   "source": [
    "for i_episode in range(num_episodes):\n",
    "    \n",
    "    # resets the environment\n",
    "    state = env.reset()\n",
    "    step = 0\n",
    "    #reward = 0\n",
    "\n",
    "  ## as epsilon decays with more timesteps, the prob. of selecting a random val < e decays --> more likely to exploit. \n",
    "    if epsilon > epsilon_final:\n",
    "            epsilon *= epsilon_decay\n",
    "\n",
    "    while True:\n",
    "        \n",
    "        step += 1\n",
    "        \n",
    "        random_for_epsilon = np.random.rand()\n",
    "        if random_for_epsilon <= epsilon:\n",
    "          action = env.action_space.sample()\n",
    "        else: \n",
    "          action = np.argmax(Q.loc[state])\n",
    "  \n",
    "         \n",
    "        ## env gives reward and next state and whether we've reached terminal state upon taking action at current state.. \n",
    "        new_state, reward , done, info = env.step(action)\n",
    "\n",
    "        ##if you want reward penalized at for each timestep\n",
    "        #reward = rewarder(new_state, reward)\n",
    "\n",
    "        # filling the Q Table - \n",
    "        \n",
    "        Q.loc[state, action] = (1- learning_rate)*Q.at[state, action] + learning_rate*(reward + gamma * np.max(Q.loc[new_state]))\n",
    "        \n",
    "        # Setting new state for next action\n",
    "        state = new_state\n",
    "        tile = og_4x4[rowsandcols(state)[0]][rowsandcols(state)[1]]\n",
    "        #env.render()\n",
    "        \n",
    "        if done:\n",
    "          #print(Q)\n",
    "          \n",
    "          terminal_state.append(tile)\n",
    "          steps_total.append(step)\n",
    "          rewards_total.append(reward)\n",
    "          epsilon_total.append(epsilon)\n",
    "          if i_episode % 10 == 0:\n",
    "            print('Episode: {} Reward: {} Steps Taken: {} Terminal State: {}, Epsilon: {}'.format(i_episode,reward, step, tile, epsilon))\n",
    "          break\n",
    "\n",
    "\n",
    "        "
   ]
  },
  {
   "cell_type": "code",
   "execution_count": 24,
   "metadata": {
    "colab": {
     "base_uri": "https://localhost:8080/",
     "height": 521
    },
    "id": "YfFp3Hl7EfZF",
    "outputId": "3db8423f-28d2-4a83-d60d-9e5502b8f338"
   },
   "outputs": [
    {
     "data": {
      "text/html": [
       "<div>\n",
       "<style scoped>\n",
       "    .dataframe tbody tr th:only-of-type {\n",
       "        vertical-align: middle;\n",
       "    }\n",
       "\n",
       "    .dataframe tbody tr th {\n",
       "        vertical-align: top;\n",
       "    }\n",
       "\n",
       "    .dataframe thead th {\n",
       "        text-align: right;\n",
       "    }\n",
       "</style>\n",
       "<table border=\"1\" class=\"dataframe\">\n",
       "  <thead>\n",
       "    <tr style=\"text-align: right;\">\n",
       "      <th></th>\n",
       "      <th>0</th>\n",
       "      <th>1</th>\n",
       "      <th>2</th>\n",
       "      <th>3</th>\n",
       "    </tr>\n",
       "  </thead>\n",
       "  <tbody>\n",
       "    <tr>\n",
       "      <th>0</th>\n",
       "      <td>0.531441</td>\n",
       "      <td>0.478297</td>\n",
       "      <td>0.590490</td>\n",
       "      <td>0.531441</td>\n",
       "    </tr>\n",
       "    <tr>\n",
       "      <th>1</th>\n",
       "      <td>0.531441</td>\n",
       "      <td>0.000852</td>\n",
       "      <td>0.656100</td>\n",
       "      <td>0.590490</td>\n",
       "    </tr>\n",
       "    <tr>\n",
       "      <th>2</th>\n",
       "      <td>0.590490</td>\n",
       "      <td>0.729000</td>\n",
       "      <td>0.590490</td>\n",
       "      <td>0.656100</td>\n",
       "    </tr>\n",
       "    <tr>\n",
       "      <th>3</th>\n",
       "      <td>0.656100</td>\n",
       "      <td>0.000687</td>\n",
       "      <td>0.584591</td>\n",
       "      <td>0.590490</td>\n",
       "    </tr>\n",
       "    <tr>\n",
       "      <th>4</th>\n",
       "      <td>0.478297</td>\n",
       "      <td>0.348812</td>\n",
       "      <td>0.000852</td>\n",
       "      <td>0.531441</td>\n",
       "    </tr>\n",
       "    <tr>\n",
       "      <th>5</th>\n",
       "      <td>0.000491</td>\n",
       "      <td>0.000947</td>\n",
       "      <td>0.000450</td>\n",
       "      <td>0.000610</td>\n",
       "    </tr>\n",
       "    <tr>\n",
       "      <th>6</th>\n",
       "      <td>0.000852</td>\n",
       "      <td>0.810000</td>\n",
       "      <td>0.000687</td>\n",
       "      <td>0.656100</td>\n",
       "    </tr>\n",
       "    <tr>\n",
       "      <th>7</th>\n",
       "      <td>0.000017</td>\n",
       "      <td>0.000344</td>\n",
       "      <td>0.000763</td>\n",
       "      <td>0.000470</td>\n",
       "    </tr>\n",
       "    <tr>\n",
       "      <th>8</th>\n",
       "      <td>0.000718</td>\n",
       "      <td>0.000798</td>\n",
       "      <td>0.000767</td>\n",
       "      <td>0.430544</td>\n",
       "    </tr>\n",
       "    <tr>\n",
       "      <th>9</th>\n",
       "      <td>0.000718</td>\n",
       "      <td>0.000692</td>\n",
       "      <td>0.810000</td>\n",
       "      <td>0.000852</td>\n",
       "    </tr>\n",
       "    <tr>\n",
       "      <th>10</th>\n",
       "      <td>0.729000</td>\n",
       "      <td>0.900000</td>\n",
       "      <td>0.000650</td>\n",
       "      <td>0.729000</td>\n",
       "    </tr>\n",
       "    <tr>\n",
       "      <th>11</th>\n",
       "      <td>0.000323</td>\n",
       "      <td>0.000040</td>\n",
       "      <td>0.000219</td>\n",
       "      <td>0.000722</td>\n",
       "    </tr>\n",
       "    <tr>\n",
       "      <th>12</th>\n",
       "      <td>0.000125</td>\n",
       "      <td>0.000848</td>\n",
       "      <td>0.000886</td>\n",
       "      <td>0.000069</td>\n",
       "    </tr>\n",
       "    <tr>\n",
       "      <th>13</th>\n",
       "      <td>0.000797</td>\n",
       "      <td>0.590553</td>\n",
       "      <td>0.899101</td>\n",
       "      <td>0.729000</td>\n",
       "    </tr>\n",
       "    <tr>\n",
       "      <th>14</th>\n",
       "      <td>0.801105</td>\n",
       "      <td>0.900000</td>\n",
       "      <td>1.000000</td>\n",
       "      <td>0.810000</td>\n",
       "    </tr>\n",
       "    <tr>\n",
       "      <th>15</th>\n",
       "      <td>0.000000</td>\n",
       "      <td>0.000000</td>\n",
       "      <td>0.000000</td>\n",
       "      <td>0.000000</td>\n",
       "    </tr>\n",
       "  </tbody>\n",
       "</table>\n",
       "</div>"
      ],
      "text/plain": [
       "           0         1         2         3\n",
       "0   0.531441  0.478297  0.590490  0.531441\n",
       "1   0.531441  0.000852  0.656100  0.590490\n",
       "2   0.590490  0.729000  0.590490  0.656100\n",
       "3   0.656100  0.000687  0.584591  0.590490\n",
       "4   0.478297  0.348812  0.000852  0.531441\n",
       "5   0.000491  0.000947  0.000450  0.000610\n",
       "6   0.000852  0.810000  0.000687  0.656100\n",
       "7   0.000017  0.000344  0.000763  0.000470\n",
       "8   0.000718  0.000798  0.000767  0.430544\n",
       "9   0.000718  0.000692  0.810000  0.000852\n",
       "10  0.729000  0.900000  0.000650  0.729000\n",
       "11  0.000323  0.000040  0.000219  0.000722\n",
       "12  0.000125  0.000848  0.000886  0.000069\n",
       "13  0.000797  0.590553  0.899101  0.729000\n",
       "14  0.801105  0.900000  1.000000  0.810000\n",
       "15  0.000000  0.000000  0.000000  0.000000"
      ]
     },
     "execution_count": 24,
     "metadata": {},
     "output_type": "execute_result"
    }
   ],
   "source": [
    "Q"
   ]
  },
  {
   "cell_type": "code",
   "execution_count": 25,
   "metadata": {
    "id": "UN_tSzGpScxG"
   },
   "outputs": [],
   "source": [
    "%matplotlib inline"
   ]
  },
  {
   "cell_type": "code",
   "execution_count": 26,
   "metadata": {
    "colab": {
     "base_uri": "https://localhost:8080/",
     "height": 295
    },
    "id": "NM5W4AlyTapL",
    "outputId": "71ec46db-d0cd-4a80-cffe-4145d0cdf630"
   },
   "outputs": [
    {
     "data": {
      "image/png": "[encoded data removed]",
      "text/plain": [
       "<Figure size 432x288 with 1 Axes>"
      ]
     },
     "metadata": {
      "needs_background": "light"
     },
     "output_type": "display_data"
    }
   ],
   "source": [
    "plt.axhline(y=6, color='green', linestyle='-')\n",
    "plt.bar(np.arange(0, 1000), steps_total, \n",
    "        width = 0.4, color = 'blue')\n",
    "plt.xlabel('episode index')\n",
    "plt.ylabel('number of steps taken')\n",
    "plt.title(' Restricted 4x4 Negative Rewards')\n",
    "plt.show()"
   ]
  },
  {
   "cell_type": "code",
   "execution_count": 27,
   "metadata": {
    "colab": {
     "base_uri": "https://localhost:8080/",
     "height": 312
    },
    "id": "LsbOjyv7O5l7",
    "outputId": "9aa7f9ba-087b-44b7-a8c3-997082f5138c"
   },
   "outputs": [
    {
     "data": {
      "text/plain": [
       "Text(0, 0.5, 'reward')"
      ]
     },
     "execution_count": 27,
     "metadata": {},
     "output_type": "execute_result"
    },
    {
     "data": {
      "image/png": "[encoded data removed]",
      "text/plain": [
       "<Figure size 432x288 with 1 Axes>"
      ]
     },
     "metadata": {
      "needs_background": "light"
     },
     "output_type": "display_data"
    }
   ],
   "source": [
    "plt.scatter(np.arange(0, 1000), rewards_total, s = 0.5, color = 'blue')\n",
    "plt.title('Restricted 4x4 Negative Rewards')\n",
    "plt.xlabel('episode')\n",
    "plt.ylabel('reward')"
   ]
  },
  {
   "cell_type": "code",
   "execution_count": 28,
   "metadata": {
    "colab": {
     "base_uri": "https://localhost:8080/",
     "height": 521
    },
    "id": "Ja-cT6K1O9VW",
    "outputId": "b420308b-77e9-40b0-9de2-0a2edc25950d"
   },
   "outputs": [
    {
     "data": {
      "text/html": [
       "<div>\n",
       "<style scoped>\n",
       "    .dataframe tbody tr th:only-of-type {\n",
       "        vertical-align: middle;\n",
       "    }\n",
       "\n",
       "    .dataframe tbody tr th {\n",
       "        vertical-align: top;\n",
       "    }\n",
       "\n",
       "    .dataframe thead th {\n",
       "        text-align: right;\n",
       "    }\n",
       "</style>\n",
       "<table border=\"1\" class=\"dataframe\">\n",
       "  <thead>\n",
       "    <tr style=\"text-align: right;\">\n",
       "      <th></th>\n",
       "      <th>0</th>\n",
       "      <th>1</th>\n",
       "      <th>2</th>\n",
       "      <th>3</th>\n",
       "    </tr>\n",
       "  </thead>\n",
       "  <tbody>\n",
       "    <tr>\n",
       "      <th>0</th>\n",
       "      <td>0.531441</td>\n",
       "      <td>0.478297</td>\n",
       "      <td>0.590490</td>\n",
       "      <td>0.531441</td>\n",
       "    </tr>\n",
       "    <tr>\n",
       "      <th>1</th>\n",
       "      <td>0.531441</td>\n",
       "      <td>0.000852</td>\n",
       "      <td>0.656100</td>\n",
       "      <td>0.590490</td>\n",
       "    </tr>\n",
       "    <tr>\n",
       "      <th>2</th>\n",
       "      <td>0.590490</td>\n",
       "      <td>0.729000</td>\n",
       "      <td>0.590490</td>\n",
       "      <td>0.656100</td>\n",
       "    </tr>\n",
       "    <tr>\n",
       "      <th>3</th>\n",
       "      <td>0.656100</td>\n",
       "      <td>0.000687</td>\n",
       "      <td>0.584591</td>\n",
       "      <td>0.590490</td>\n",
       "    </tr>\n",
       "    <tr>\n",
       "      <th>4</th>\n",
       "      <td>0.478297</td>\n",
       "      <td>0.348812</td>\n",
       "      <td>0.000852</td>\n",
       "      <td>0.531441</td>\n",
       "    </tr>\n",
       "    <tr>\n",
       "      <th>5</th>\n",
       "      <td>0.000491</td>\n",
       "      <td>0.000947</td>\n",
       "      <td>0.000450</td>\n",
       "      <td>0.000610</td>\n",
       "    </tr>\n",
       "    <tr>\n",
       "      <th>6</th>\n",
       "      <td>0.000852</td>\n",
       "      <td>0.810000</td>\n",
       "      <td>0.000687</td>\n",
       "      <td>0.656100</td>\n",
       "    </tr>\n",
       "    <tr>\n",
       "      <th>7</th>\n",
       "      <td>0.000017</td>\n",
       "      <td>0.000344</td>\n",
       "      <td>0.000763</td>\n",
       "      <td>0.000470</td>\n",
       "    </tr>\n",
       "    <tr>\n",
       "      <th>8</th>\n",
       "      <td>0.000718</td>\n",
       "      <td>0.000798</td>\n",
       "      <td>0.000767</td>\n",
       "      <td>0.430544</td>\n",
       "    </tr>\n",
       "    <tr>\n",
       "      <th>9</th>\n",
       "      <td>0.000718</td>\n",
       "      <td>0.000692</td>\n",
       "      <td>0.810000</td>\n",
       "      <td>0.000852</td>\n",
       "    </tr>\n",
       "    <tr>\n",
       "      <th>10</th>\n",
       "      <td>0.729000</td>\n",
       "      <td>0.900000</td>\n",
       "      <td>0.000650</td>\n",
       "      <td>0.729000</td>\n",
       "    </tr>\n",
       "    <tr>\n",
       "      <th>11</th>\n",
       "      <td>0.000323</td>\n",
       "      <td>0.000040</td>\n",
       "      <td>0.000219</td>\n",
       "      <td>0.000722</td>\n",
       "    </tr>\n",
       "    <tr>\n",
       "      <th>12</th>\n",
       "      <td>0.000125</td>\n",
       "      <td>0.000848</td>\n",
       "      <td>0.000886</td>\n",
       "      <td>0.000069</td>\n",
       "    </tr>\n",
       "    <tr>\n",
       "      <th>13</th>\n",
       "      <td>0.000797</td>\n",
       "      <td>0.590553</td>\n",
       "      <td>0.899101</td>\n",
       "      <td>0.729000</td>\n",
       "    </tr>\n",
       "    <tr>\n",
       "      <th>14</th>\n",
       "      <td>0.801105</td>\n",
       "      <td>0.900000</td>\n",
       "      <td>1.000000</td>\n",
       "      <td>0.810000</td>\n",
       "    </tr>\n",
       "    <tr>\n",
       "      <th>15</th>\n",
       "      <td>0.000000</td>\n",
       "      <td>0.000000</td>\n",
       "      <td>0.000000</td>\n",
       "      <td>0.000000</td>\n",
       "    </tr>\n",
       "  </tbody>\n",
       "</table>\n",
       "</div>"
      ],
      "text/plain": [
       "           0         1         2         3\n",
       "0   0.531441  0.478297  0.590490  0.531441\n",
       "1   0.531441  0.000852  0.656100  0.590490\n",
       "2   0.590490  0.729000  0.590490  0.656100\n",
       "3   0.656100  0.000687  0.584591  0.590490\n",
       "4   0.478297  0.348812  0.000852  0.531441\n",
       "5   0.000491  0.000947  0.000450  0.000610\n",
       "6   0.000852  0.810000  0.000687  0.656100\n",
       "7   0.000017  0.000344  0.000763  0.000470\n",
       "8   0.000718  0.000798  0.000767  0.430544\n",
       "9   0.000718  0.000692  0.810000  0.000852\n",
       "10  0.729000  0.900000  0.000650  0.729000\n",
       "11  0.000323  0.000040  0.000219  0.000722\n",
       "12  0.000125  0.000848  0.000886  0.000069\n",
       "13  0.000797  0.590553  0.899101  0.729000\n",
       "14  0.801105  0.900000  1.000000  0.810000\n",
       "15  0.000000  0.000000  0.000000  0.000000"
      ]
     },
     "execution_count": 28,
     "metadata": {},
     "output_type": "execute_result"
    }
   ],
   "source": [
    "Q"
   ]
  },
  {
   "cell_type": "code",
   "execution_count": 17,
   "metadata": {
    "id": "dVwtWKmEPT89"
   },
   "outputs": [],
   "source": []
  }
 ],
 "metadata": {
  "colab": {
   "collapsed_sections": [],
   "name": "Base_4x4.ipynb",
   "provenance": []
  },
  "kernelspec": {
   "display_name": "Python 3 (ipykernel)",
   "language": "python",
   "name": "python3"
  },
  "language_info": {
   "codemirror_mode": {
    "name": "ipython",
    "version": 3
   },
   "file_extension": ".py",
   "mimetype": "text/x-python",
   "name": "python",
   "nbconvert_exporter": "python",
   "pygments_lexer": "ipython3",
   "version": "3.7.4"
  }
 },
 "nbformat": 4,
 "nbformat_minor": 1
}
