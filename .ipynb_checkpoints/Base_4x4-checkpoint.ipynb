{
 "cells": [
  {
   "cell_type": "code",
   "execution_count": 1,
   "metadata": {
    "id": "Q-yiwx-dEz2N"
   },
   "outputs": [
    {
     "ename": "ModuleNotFoundError",
     "evalue": "No module named 'gym'",
     "output_type": "error",
     "traceback": [
      "\u001b[1;31m---------------------------------------------------------------------------\u001b[0m",
      "\u001b[1;31mModuleNotFoundError\u001b[0m                       Traceback (most recent call last)",
      "\u001b[1;32mC:\\Users\\NOGAMU~1\\AppData\\Local\\Temp/ipykernel_19936/99477475.py\u001b[0m in \u001b[0;36m<module>\u001b[1;34m\u001b[0m\n\u001b[1;32m----> 1\u001b[1;33m \u001b[1;32mimport\u001b[0m \u001b[0mgym\u001b[0m\u001b[1;33m\u001b[0m\u001b[1;33m\u001b[0m\u001b[0m\n\u001b[0m\u001b[0;32m      2\u001b[0m \u001b[1;32mimport\u001b[0m \u001b[0mnumpy\u001b[0m \u001b[1;32mas\u001b[0m \u001b[0mnp\u001b[0m\u001b[1;33m\u001b[0m\u001b[1;33m\u001b[0m\u001b[0m\n\u001b[0;32m      3\u001b[0m \u001b[1;32mimport\u001b[0m \u001b[0mrandom\u001b[0m\u001b[1;33m\u001b[0m\u001b[1;33m\u001b[0m\u001b[0m\n\u001b[0;32m      4\u001b[0m \u001b[1;32mimport\u001b[0m \u001b[0mtorch\u001b[0m\u001b[1;33m\u001b[0m\u001b[1;33m\u001b[0m\u001b[0m\n\u001b[0;32m      5\u001b[0m \u001b[1;32mimport\u001b[0m \u001b[0mtime\u001b[0m\u001b[1;33m\u001b[0m\u001b[1;33m\u001b[0m\u001b[0m\n",
      "\u001b[1;31mModuleNotFoundError\u001b[0m: No module named 'gym'"
     ]
    }
   ],
   "source": [
    "import gym\n",
    "import numpy as np\n",
    "import random\n",
    "import torch\n",
    "import time\n",
    "import matplotlib.pyplot as plt\n",
    "import pandas as pd"
   ]
  },
  {
   "cell_type": "code",
   "execution_count": 18,
   "metadata": {
    "id": "KOxNUQHRL5t_"
   },
   "outputs": [],
   "source": [
    "og_4x4 = ['SFFF',\n",
    "'FHFH',\n",
    "'FFFH',\n",
    "'HFFG']\n",
    "\n"
   ]
  },
  {
   "cell_type": "code",
   "execution_count": 19,
   "metadata": {
    "colab": {
     "base_uri": "https://localhost:8080/"
    },
    "id": "W_FdoKdqM0qt",
    "outputId": "fd5f978f-8bfd-4411-e6c5-0fcb63cd29dc"
   },
   "outputs": [
    {
     "name": "stdout",
     "output_type": "stream",
     "text": [
      "\n",
      "\u001b[41mS\u001b[0mFFF\n",
      "FHFH\n",
      "FFFH\n",
      "HFFG\n"
     ]
    }
   ],
   "source": [
    "env = gym.make('FrozenLake-v0', is_slippery=False, desc = og_4x4)\n",
    "\n",
    "\n",
    "# visualize 4x4 frozen lake\n",
    "env.render()"
   ]
  },
  {
   "cell_type": "code",
   "execution_count": 20,
   "metadata": {
    "colab": {
     "base_uri": "https://localhost:8080/"
    },
    "id": "2U4M9EydYhrn",
    "outputId": "c50fa0a8-7932-4a44-88df-3435be54020f"
   },
   "outputs": [
    {
     "name": "stdout",
     "output_type": "stream",
     "text": [
      "States =  16\n",
      "Actions =  4\n"
     ]
    }
   ],
   "source": [
    "# Total number of States and Actions\n",
    "n_states = env.observation_space.n\n",
    "n_actions = env.action_space.n\n",
    "n_rows = 4\n",
    "n_cols = 4\n",
    "print( \"States = \", n_states)\n",
    "print( \"Actions = \", n_actions)"
   ]
  },
  {
   "cell_type": "code",
   "execution_count": 21,
   "metadata": {
    "id": "dkf7Y6uUZWcT"
   },
   "outputs": [],
   "source": [
    "def restrict_actions(Q, n_states, n_rows):\n",
    "\n",
    "  Q.at[n_states -1, :] = np.zeros(n_rows,)\n",
    "  for i in range( 0, n_states, n_rows): \n",
    "    Q.at[i,0] = np.NaN\n",
    "  for i in range( n_rows -1 , n_states, n_rows): \n",
    "    Q.at[i,2] = np.NaN\n",
    "  for i in range(0, n_rows):\n",
    "    Q.at[i,3] = np.NaN\n",
    "  for i in range(n_states - n_rows , n_states):\n",
    "    Q.at[i,1 ]= np.NaN\n",
    "  \n",
    "  return Q\n",
    "  "
   ]
  },
  {
   "cell_type": "code",
   "execution_count": 22,
   "metadata": {
    "id": "WZaLFyMBOtR6"
   },
   "outputs": [],
   "source": [
    "def rewarder(new_state, reward):\n",
    "  if og_4x4[rowsandcols(new_state)[0]][rowsandcols(new_state)[1]]== 'H':\n",
    "    reward -= 20\n",
    "  elif og_4x4[rowsandcols(new_state)[0]][rowsandcols(new_state)[1]]== 'F':\n",
    "    reward -= 1 \n",
    "  elif og_4x4[rowsandcols(new_state)[0]][rowsandcols(new_state)[1]]== 'S':\n",
    "    reward -= 1\n",
    "  else: #goal\n",
    "    reward += 100\n",
    "\n",
    "  return reward"
   ]
  },
  {
   "cell_type": "code",
   "execution_count": 23,
   "metadata": {
    "id": "etJ3l_EdNC7E"
   },
   "outputs": [],
   "source": [
    "def choose_action(Q, state, epsilon):\n",
    "  random_for_epsilon = np.random.rand()\n",
    "  if random_for_epsilon <= epsilon:\n",
    "    s = Q.loc[state].notna()\n",
    "    vals = s[s].index.values\n",
    "    action = random.choice(vals)\n",
    "  else: \n",
    "    Q.loc[state] += np.random.rand(n_actions,)/100\n",
    "    action = np.argmax(Q.loc[state])\n",
    "  return action"
   ]
  },
  {
   "cell_type": "code",
   "execution_count": 24,
   "metadata": {
    "id": "bc9jRORuNFkd"
   },
   "outputs": [],
   "source": [
    "##assign index to each state using state-matrix\n",
    "\n",
    "state_matrix = np.arange(0,n_states).reshape(n_rows,n_cols)\n",
    "state_matrix\n",
    "\n",
    "def rowsandcols(state):\n",
    "  ''' input: state returned by env\n",
    "      output: location of state as (row,col) tuple'''\n",
    "  return int(np.where(state_matrix ==state)[0]), int(np.where(state_matrix ==state)[1])"
   ]
  },
  {
   "cell_type": "code",
   "execution_count": 25,
   "metadata": {
    "id": "_8BCvWMUNTYE"
   },
   "outputs": [],
   "source": [
    "#### Initialize Q-table"
   ]
  },
  {
   "cell_type": "code",
   "execution_count": 46,
   "metadata": {
    "colab": {
     "base_uri": "https://localhost:8080/",
     "height": 521
    },
    "id": "DWl1X4Mk30No",
    "outputId": "e48979b7-f581-45be-9fc3-7e93e1ab98e9"
   },
   "outputs": [
    {
     "data": {
      "text/html": [
       "<div>\n",
       "<style scoped>\n",
       "    .dataframe tbody tr th:only-of-type {\n",
       "        vertical-align: middle;\n",
       "    }\n",
       "\n",
       "    .dataframe tbody tr th {\n",
       "        vertical-align: top;\n",
       "    }\n",
       "\n",
       "    .dataframe thead th {\n",
       "        text-align: right;\n",
       "    }\n",
       "</style>\n",
       "<table border=\"1\" class=\"dataframe\">\n",
       "  <thead>\n",
       "    <tr style=\"text-align: right;\">\n",
       "      <th></th>\n",
       "      <th>0</th>\n",
       "      <th>1</th>\n",
       "      <th>2</th>\n",
       "      <th>3</th>\n",
       "    </tr>\n",
       "  </thead>\n",
       "  <tbody>\n",
       "    <tr>\n",
       "      <th>0</th>\n",
       "      <td>0.000488</td>\n",
       "      <td>0.000138</td>\n",
       "      <td>0.000848</td>\n",
       "      <td>0.000857</td>\n",
       "    </tr>\n",
       "    <tr>\n",
       "      <th>1</th>\n",
       "      <td>0.000475</td>\n",
       "      <td>0.000743</td>\n",
       "      <td>0.000360</td>\n",
       "      <td>0.000519</td>\n",
       "    </tr>\n",
       "    <tr>\n",
       "      <th>2</th>\n",
       "      <td>0.000412</td>\n",
       "      <td>0.000367</td>\n",
       "      <td>0.000401</td>\n",
       "      <td>0.000781</td>\n",
       "    </tr>\n",
       "    <tr>\n",
       "      <th>3</th>\n",
       "      <td>0.000426</td>\n",
       "      <td>0.000323</td>\n",
       "      <td>0.000277</td>\n",
       "      <td>0.000050</td>\n",
       "    </tr>\n",
       "    <tr>\n",
       "      <th>4</th>\n",
       "      <td>0.000138</td>\n",
       "      <td>0.000864</td>\n",
       "      <td>0.000995</td>\n",
       "      <td>0.000761</td>\n",
       "    </tr>\n",
       "    <tr>\n",
       "      <th>5</th>\n",
       "      <td>0.000259</td>\n",
       "      <td>0.000648</td>\n",
       "      <td>0.000465</td>\n",
       "      <td>0.000953</td>\n",
       "    </tr>\n",
       "    <tr>\n",
       "      <th>6</th>\n",
       "      <td>0.000368</td>\n",
       "      <td>0.000654</td>\n",
       "      <td>0.000678</td>\n",
       "      <td>0.000426</td>\n",
       "    </tr>\n",
       "    <tr>\n",
       "      <th>7</th>\n",
       "      <td>0.000916</td>\n",
       "      <td>0.000207</td>\n",
       "      <td>0.000641</td>\n",
       "      <td>0.000108</td>\n",
       "    </tr>\n",
       "    <tr>\n",
       "      <th>8</th>\n",
       "      <td>0.000111</td>\n",
       "      <td>0.000299</td>\n",
       "      <td>0.000986</td>\n",
       "      <td>0.000595</td>\n",
       "    </tr>\n",
       "    <tr>\n",
       "      <th>9</th>\n",
       "      <td>0.000144</td>\n",
       "      <td>0.000121</td>\n",
       "      <td>0.000105</td>\n",
       "      <td>0.000988</td>\n",
       "    </tr>\n",
       "    <tr>\n",
       "      <th>10</th>\n",
       "      <td>0.000962</td>\n",
       "      <td>0.000621</td>\n",
       "      <td>0.000781</td>\n",
       "      <td>0.000604</td>\n",
       "    </tr>\n",
       "    <tr>\n",
       "      <th>11</th>\n",
       "      <td>0.000585</td>\n",
       "      <td>0.000331</td>\n",
       "      <td>0.000747</td>\n",
       "      <td>0.000910</td>\n",
       "    </tr>\n",
       "    <tr>\n",
       "      <th>12</th>\n",
       "      <td>0.000994</td>\n",
       "      <td>0.000473</td>\n",
       "      <td>0.000926</td>\n",
       "      <td>0.000121</td>\n",
       "    </tr>\n",
       "    <tr>\n",
       "      <th>13</th>\n",
       "      <td>0.000848</td>\n",
       "      <td>0.000236</td>\n",
       "      <td>0.000956</td>\n",
       "      <td>0.000821</td>\n",
       "    </tr>\n",
       "    <tr>\n",
       "      <th>14</th>\n",
       "      <td>0.000485</td>\n",
       "      <td>0.000959</td>\n",
       "      <td>0.000875</td>\n",
       "      <td>0.000696</td>\n",
       "    </tr>\n",
       "    <tr>\n",
       "      <th>15</th>\n",
       "      <td>0.000000</td>\n",
       "      <td>0.000000</td>\n",
       "      <td>0.000000</td>\n",
       "      <td>0.000000</td>\n",
       "    </tr>\n",
       "  </tbody>\n",
       "</table>\n",
       "</div>"
      ],
      "text/plain": [
       "           0         1         2         3\n",
       "0   0.000488  0.000138  0.000848  0.000857\n",
       "1   0.000475  0.000743  0.000360  0.000519\n",
       "2   0.000412  0.000367  0.000401  0.000781\n",
       "3   0.000426  0.000323  0.000277  0.000050\n",
       "4   0.000138  0.000864  0.000995  0.000761\n",
       "5   0.000259  0.000648  0.000465  0.000953\n",
       "6   0.000368  0.000654  0.000678  0.000426\n",
       "7   0.000916  0.000207  0.000641  0.000108\n",
       "8   0.000111  0.000299  0.000986  0.000595\n",
       "9   0.000144  0.000121  0.000105  0.000988\n",
       "10  0.000962  0.000621  0.000781  0.000604\n",
       "11  0.000585  0.000331  0.000747  0.000910\n",
       "12  0.000994  0.000473  0.000926  0.000121\n",
       "13  0.000848  0.000236  0.000956  0.000821\n",
       "14  0.000485  0.000959  0.000875  0.000696\n",
       "15  0.000000  0.000000  0.000000  0.000000"
      ]
     },
     "execution_count": 46,
     "metadata": {
      "tags": []
     },
     "output_type": "execute_result"
    }
   ],
   "source": [
    "Q = pd.DataFrame(np.random.rand(n_states,n_actions)/1000)\n",
    "Q.loc[15] = np.zeros(n_actions,)\n",
    "#Q = restrict_actions(Q, n_states, n_rows)\n",
    "Q"
   ]
  },
  {
   "cell_type": "code",
   "execution_count": 47,
   "metadata": {
    "id": "Hj5IskDPPcCT"
   },
   "outputs": [],
   "source": [
    "epsilon = 0.8\n",
    "epsilon_final = 0.1\n",
    "epsilon_decay = 0.999\n",
    "gamma = 0.90 # discount factor\n",
    "learning_rate = 0.9 #how important is the difference between q-val from q-table and what's observed"
   ]
  },
  {
   "cell_type": "code",
   "execution_count": 48,
   "metadata": {
    "id": "ZZWfuWX-PiV3"
   },
   "outputs": [],
   "source": [
    "num_episodes = 1000\n",
    "steps_total = [] # store number of steps taken in each episode\n",
    "rewards_total = [] #store reward obtained for each episode\n",
    "epsilon_total = [] #store epsilon obtained at the end of each episode\n",
    "terminal_state = []"
   ]
  },
  {
   "cell_type": "code",
   "execution_count": 49,
   "metadata": {
    "colab": {
     "base_uri": "https://localhost:8080/"
    },
    "id": "ai7-U-UJQLO7",
    "outputId": "6bebee96-7b20-4801-c6cf-f91cfa287f26"
   },
   "outputs": [
    {
     "name": "stdout",
     "output_type": "stream",
     "text": [
      "Episode: 0 Reward: 0.0 Steps Taken: 4 Terminal State: H, Epsilon: 0.7992\n",
      "Episode: 10 Reward: 0.0 Steps Taken: 2 Terminal State: H, Epsilon: 0.7912438682636309\n",
      "Episode: 20 Reward: 0.0 Steps Taken: 9 Terminal State: H, Epsilon: 0.7833669407717642\n",
      "Episode: 30 Reward: 0.0 Steps Taken: 3 Terminal State: H, Epsilon: 0.7755684290366581\n",
      "Episode: 40 Reward: 0.0 Steps Taken: 2 Terminal State: H, Epsilon: 0.7678475524200608\n",
      "Episode: 50 Reward: 0.0 Steps Taken: 5 Terminal State: H, Epsilon: 0.7602035380550674\n",
      "Episode: 60 Reward: 0.0 Steps Taken: 4 Terminal State: H, Epsilon: 0.7526356207687559\n",
      "Episode: 70 Reward: 0.0 Steps Taken: 3 Terminal State: H, Epsilon: 0.7451430430055925\n",
      "Episode: 80 Reward: 0.0 Steps Taken: 2 Terminal State: H, Epsilon: 0.7377250547515992\n",
      "Episode: 90 Reward: 0.0 Steps Taken: 2 Terminal State: H, Epsilon: 0.7303809134592769\n",
      "Episode: 100 Reward: 0.0 Steps Taken: 4 Terminal State: H, Epsilon: 0.7231098839732764\n",
      "Episode: 110 Reward: 0.0 Steps Taken: 8 Terminal State: H, Epsilon: 0.7159112384568073\n",
      "Episode: 120 Reward: 0.0 Steps Taken: 2 Terminal State: H, Epsilon: 0.7087842563187822\n",
      "Episode: 130 Reward: 0.0 Steps Taken: 3 Terminal State: H, Epsilon: 0.7017282241416841\n",
      "Episode: 140 Reward: 0.0 Steps Taken: 3 Terminal State: H, Epsilon: 0.694742435610153\n",
      "Episode: 150 Reward: 0.0 Steps Taken: 2 Terminal State: H, Epsilon: 0.6878261914402828\n",
      "Episode: 160 Reward: 0.0 Steps Taken: 10 Terminal State: H, Epsilon: 0.6809787993096221\n",
      "Episode: 170 Reward: 0.0 Steps Taken: 3 Terminal State: H, Epsilon: 0.6741995737878729\n",
      "Episode: 180 Reward: 0.0 Steps Taken: 2 Terminal State: H, Epsilon: 0.6674878362682779\n",
      "Episode: 190 Reward: 0.0 Steps Taken: 3 Terminal State: H, Epsilon: 0.6608429148996913\n",
      "Episode: 200 Reward: 0.0 Steps Taken: 2 Terminal State: H, Epsilon: 0.6542641445193258\n",
      "Episode: 210 Reward: 0.0 Steps Taken: 2 Terminal State: H, Epsilon: 0.6477508665861693\n",
      "Episode: 220 Reward: 0.0 Steps Taken: 2 Terminal State: H, Epsilon: 0.6413024291150646\n",
      "Episode: 230 Reward: 0.0 Steps Taken: 6 Terminal State: H, Epsilon: 0.6349181866114447\n",
      "Episode: 240 Reward: 0.0 Steps Taken: 5 Terminal State: H, Epsilon: 0.6285975000067183\n",
      "Episode: 250 Reward: 0.0 Steps Taken: 3 Terminal State: H, Epsilon: 0.6223397365942986\n",
      "Episode: 260 Reward: 0.0 Steps Taken: 4 Terminal State: H, Epsilon: 0.6161442699662687\n",
      "Episode: 270 Reward: 0.0 Steps Taken: 2 Terminal State: H, Epsilon: 0.6100104799506774\n",
      "Episode: 280 Reward: 1.0 Steps Taken: 14 Terminal State: G, Epsilon: 0.6039377525494594\n",
      "Episode: 290 Reward: 0.0 Steps Taken: 4 Terminal State: H, Epsilon: 0.5979254798769741\n",
      "Episode: 300 Reward: 0.0 Steps Taken: 8 Terminal State: H, Epsilon: 0.5919730600991551\n",
      "Episode: 310 Reward: 0.0 Steps Taken: 2 Terminal State: H, Epsilon: 0.5860798973732659\n",
      "Episode: 320 Reward: 0.0 Steps Taken: 17 Terminal State: H, Epsilon: 0.5802454017882566\n",
      "Episode: 330 Reward: 1.0 Steps Taken: 9 Terminal State: G, Epsilon: 0.5744689893057117\n",
      "Episode: 340 Reward: 0.0 Steps Taken: 3 Terminal State: H, Epsilon: 0.5687500817013885\n",
      "Episode: 350 Reward: 1.0 Steps Taken: 11 Terminal State: G, Epsilon: 0.5630881065073355\n",
      "Episode: 360 Reward: 0.0 Steps Taken: 17 Terminal State: H, Epsilon: 0.557482496954589\n",
      "Episode: 370 Reward: 0.0 Steps Taken: 7 Terminal State: H, Epsilon: 0.5519326919164373\n",
      "Episode: 380 Reward: 0.0 Steps Taken: 3 Terminal State: H, Epsilon: 0.5464381358522531\n",
      "Episode: 390 Reward: 1.0 Steps Taken: 7 Terminal State: G, Epsilon: 0.5409982787518822\n",
      "Episode: 400 Reward: 0.0 Steps Taken: 23 Terminal State: H, Epsilon: 0.5356125760805872\n",
      "Episode: 410 Reward: 0.0 Steps Taken: 6 Terminal State: H, Epsilon: 0.5302804887245397\n",
      "Episode: 420 Reward: 1.0 Steps Taken: 13 Terminal State: G, Epsilon: 0.5250014829368536\n",
      "Episode: 430 Reward: 1.0 Steps Taken: 6 Terminal State: G, Epsilon: 0.5197750302841573\n",
      "Episode: 440 Reward: 1.0 Steps Taken: 9 Terminal State: G, Epsilon: 0.5146006075936969\n",
      "Episode: 450 Reward: 1.0 Steps Taken: 19 Terminal State: G, Epsilon: 0.5094776969009654\n",
      "Episode: 460 Reward: 0.0 Steps Taken: 7 Terminal State: H, Epsilon: 0.5044057853978547\n",
      "Episode: 470 Reward: 0.0 Steps Taken: 11 Terminal State: H, Epsilon: 0.49938436538132314\n",
      "Episode: 480 Reward: 0.0 Steps Taken: 9 Terminal State: H, Epsilon: 0.4944129342025731\n",
      "Episode: 490 Reward: 0.0 Steps Taken: 4 Terminal State: H, Epsilon: 0.48949099421673664\n",
      "Episode: 500 Reward: 0.0 Steps Taken: 2 Terminal State: H, Epsilon: 0.48461805273305963\n",
      "Episode: 510 Reward: 1.0 Steps Taken: 9 Terminal State: G, Epsilon: 0.47979362196558345\n",
      "Episode: 520 Reward: 0.0 Steps Taken: 3 Terminal State: H, Epsilon: 0.4750172189843173\n",
      "Episode: 530 Reward: 0.0 Steps Taken: 9 Terminal State: H, Epsilon: 0.47028836566689614\n",
      "Episode: 540 Reward: 0.0 Steps Taken: 5 Terminal State: H, Epsilon: 0.46560658865072047\n",
      "Episode: 550 Reward: 1.0 Steps Taken: 6 Terminal State: G, Epsilon: 0.460971419285572\n",
      "Episode: 560 Reward: 0.0 Steps Taken: 2 Terminal State: H, Epsilon: 0.4563823935867017\n",
      "Episode: 570 Reward: 0.0 Steps Taken: 4 Terminal State: H, Epsilon: 0.45183905218838427\n",
      "Episode: 580 Reward: 0.0 Steps Taken: 3 Terminal State: H, Epsilon: 0.44734094029793514\n",
      "Episode: 590 Reward: 0.0 Steps Taken: 8 Terminal State: H, Epsilon: 0.4428876076501854\n",
      "Episode: 600 Reward: 1.0 Steps Taken: 8 Terminal State: G, Epsilon: 0.4384786084624098\n",
      "Episode: 610 Reward: 1.0 Steps Taken: 8 Terminal State: G, Epsilon: 0.4341135013897036\n",
      "Episode: 620 Reward: 0.0 Steps Taken: 7 Terminal State: H, Epsilon: 0.4297918494808035\n",
      "Episode: 630 Reward: 1.0 Steps Taken: 7 Terminal State: G, Epsilon: 0.4255132201343483\n",
      "Episode: 640 Reward: 1.0 Steps Taken: 12 Terminal State: G, Epsilon: 0.42127718505557504\n",
      "Episode: 650 Reward: 0.0 Steps Taken: 7 Terminal State: H, Epsilon: 0.41708332021344663\n",
      "Episode: 660 Reward: 0.0 Steps Taken: 4 Terminal State: H, Epsilon: 0.4129312057982058\n",
      "Episode: 670 Reward: 1.0 Steps Taken: 9 Terminal State: G, Epsilon: 0.4088204261793515\n",
      "Episode: 680 Reward: 1.0 Steps Taken: 6 Terminal State: G, Epsilon: 0.40475056986403424\n",
      "Episode: 690 Reward: 1.0 Steps Taken: 6 Terminal State: G, Epsilon: 0.4007212294558651\n",
      "Episode: 700 Reward: 0.0 Steps Taken: 5 Terminal State: H, Epsilon: 0.3967320016141349\n",
      "Episode: 710 Reward: 0.0 Steps Taken: 2 Terminal State: H, Epsilon: 0.3927824870134399\n",
      "Episode: 720 Reward: 0.0 Steps Taken: 8 Terminal State: H, Epsilon: 0.38887229030370796\n",
      "Episode: 730 Reward: 0.0 Steps Taken: 2 Terminal State: H, Epsilon: 0.385001020070625\n",
      "Episode: 740 Reward: 0.0 Steps Taken: 3 Terminal State: H, Epsilon: 0.3811682887964528\n",
      "Episode: 750 Reward: 1.0 Steps Taken: 9 Terminal State: G, Epsilon: 0.37737371282123877\n",
      "Episode: 760 Reward: 1.0 Steps Taken: 10 Terminal State: G, Epsilon: 0.3736169123044112\n",
      "Episode: 770 Reward: 0.0 Steps Taken: 2 Terminal State: H, Epsilon: 0.36989751118675673\n",
      "Episode: 780 Reward: 0.0 Steps Taken: 8 Terminal State: H, Epsilon: 0.36621513715277654\n",
      "Episode: 790 Reward: 1.0 Steps Taken: 11 Terminal State: G, Epsilon: 0.36256942159341715\n",
      "Episode: 800 Reward: 0.0 Steps Taken: 4 Terminal State: H, Epsilon: 0.3589599995691724\n",
      "Episode: 810 Reward: 1.0 Steps Taken: 7 Terminal State: G, Epsilon: 0.3553865097735525\n",
      "Episode: 820 Reward: 1.0 Steps Taken: 7 Terminal State: G, Epsilon: 0.3518485944969173\n",
      "Episode: 830 Reward: 0.0 Steps Taken: 4 Terminal State: H, Epsilon: 0.34834589959066875\n",
      "Episode: 840 Reward: 1.0 Steps Taken: 7 Terminal State: G, Epsilon: 0.34487807443180063\n",
      "Episode: 850 Reward: 1.0 Steps Taken: 8 Terminal State: G, Epsilon: 0.3414447718878007\n",
      "Episode: 860 Reward: 1.0 Steps Taken: 7 Terminal State: G, Epsilon: 0.33804564828190237\n",
      "Episode: 870 Reward: 1.0 Steps Taken: 7 Terminal State: G, Epsilon: 0.33468036335868273\n",
      "Episode: 880 Reward: 0.0 Steps Taken: 3 Terminal State: H, Epsilon: 0.3313485802500021\n",
      "Episode: 890 Reward: 1.0 Steps Taken: 11 Terminal State: G, Epsilon: 0.3280499654412834\n",
      "Episode: 900 Reward: 1.0 Steps Taken: 7 Terminal State: G, Epsilon: 0.32478418873812753\n",
      "Episode: 910 Reward: 1.0 Steps Taken: 8 Terminal State: G, Epsilon: 0.32155092323325973\n",
      "Episode: 920 Reward: 0.0 Steps Taken: 6 Terminal State: H, Epsilon: 0.3183498452738065\n",
      "Episode: 930 Reward: 1.0 Steps Taken: 9 Terminal State: G, Epsilon: 0.3151806344288976\n",
      "Episode: 940 Reward: 0.0 Steps Taken: 4 Terminal State: H, Epsilon: 0.31204297345759036\n",
      "Episode: 950 Reward: 1.0 Steps Taken: 7 Terminal State: G, Epsilon: 0.3089365482771137\n",
      "Episode: 960 Reward: 1.0 Steps Taken: 7 Terminal State: G, Epsilon: 0.30586104793142815\n",
      "Episode: 970 Reward: 1.0 Steps Taken: 9 Terminal State: G, Epsilon: 0.30281616456009885\n",
      "Episode: 980 Reward: 1.0 Steps Taken: 6 Terminal State: G, Epsilon: 0.29980159336747847\n",
      "Episode: 990 Reward: 1.0 Steps Taken: 6 Terminal State: G, Epsilon: 0.29681703259219694\n"
     ]
    }
   ],
   "source": [
    "for i_episode in range(num_episodes):\n",
    "    \n",
    "    # resets the environment\n",
    "    state = env.reset()\n",
    "    step = 0\n",
    "    #reward = 0\n",
    "\n",
    "  ## as epsilon decays with more timesteps, the prob. of selecting a random val < e decays --> more likely to exploit. \n",
    "    if epsilon > epsilon_final:\n",
    "            epsilon *= epsilon_decay\n",
    "\n",
    "    while True:\n",
    "        \n",
    "        step += 1\n",
    "        \n",
    "        random_for_epsilon = np.random.rand()\n",
    "        if random_for_epsilon <= epsilon:\n",
    "          action = env.action_space.sample()\n",
    "        else: \n",
    "          action = np.argmax(Q.loc[state])\n",
    "  \n",
    "         \n",
    "        ## env gives reward and next state and whether we've reached terminal state upon taking action at current state.. \n",
    "        new_state, reward , done, info = env.step(action)\n",
    "\n",
    "        ##if you want reward penalized at for each timestep\n",
    "        #reward = rewarder(new_state, reward)\n",
    "\n",
    "        # filling the Q Table - \n",
    "        \n",
    "        Q.loc[state, action] = (1- learning_rate)*Q.at[state, action] + learning_rate*(reward + gamma * np.max(Q.loc[new_state]))\n",
    "        \n",
    "        # Setting new state for next action\n",
    "        state = new_state\n",
    "        tile = og_4x4[rowsandcols(state)[0]][rowsandcols(state)[1]]\n",
    "        #env.render()\n",
    "        \n",
    "        if done:\n",
    "          #print(Q)\n",
    "          \n",
    "          terminal_state.append(tile)\n",
    "          steps_total.append(step)\n",
    "          rewards_total.append(reward)\n",
    "          epsilon_total.append(epsilon)\n",
    "          if i_episode % 10 == 0:\n",
    "            print('Episode: {} Reward: {} Steps Taken: {} Terminal State: {}, Epsilon: {}'.format(i_episode,reward, step, tile, epsilon))\n",
    "          break\n",
    "\n",
    "\n",
    "        "
   ]
  },
  {
   "cell_type": "code",
   "execution_count": 50,
   "metadata": {
    "colab": {
     "base_uri": "https://localhost:8080/",
     "height": 521
    },
    "id": "YfFp3Hl7EfZF",
    "outputId": "3db8423f-28d2-4a83-d60d-9e5502b8f338"
   },
   "outputs": [
    {
     "data": {
      "text/html": [
       "<div>\n",
       "<style scoped>\n",
       "    .dataframe tbody tr th:only-of-type {\n",
       "        vertical-align: middle;\n",
       "    }\n",
       "\n",
       "    .dataframe tbody tr th {\n",
       "        vertical-align: top;\n",
       "    }\n",
       "\n",
       "    .dataframe thead th {\n",
       "        text-align: right;\n",
       "    }\n",
       "</style>\n",
       "<table border=\"1\" class=\"dataframe\">\n",
       "  <thead>\n",
       "    <tr style=\"text-align: right;\">\n",
       "      <th></th>\n",
       "      <th>0</th>\n",
       "      <th>1</th>\n",
       "      <th>2</th>\n",
       "      <th>3</th>\n",
       "    </tr>\n",
       "  </thead>\n",
       "  <tbody>\n",
       "    <tr>\n",
       "      <th>0</th>\n",
       "      <td>0.531441</td>\n",
       "      <td>0.590490</td>\n",
       "      <td>0.590490</td>\n",
       "      <td>0.531441</td>\n",
       "    </tr>\n",
       "    <tr>\n",
       "      <th>1</th>\n",
       "      <td>0.531441</td>\n",
       "      <td>0.000858</td>\n",
       "      <td>0.656100</td>\n",
       "      <td>0.590490</td>\n",
       "    </tr>\n",
       "    <tr>\n",
       "      <th>2</th>\n",
       "      <td>0.590490</td>\n",
       "      <td>0.729000</td>\n",
       "      <td>0.589737</td>\n",
       "      <td>0.656100</td>\n",
       "    </tr>\n",
       "    <tr>\n",
       "      <th>3</th>\n",
       "      <td>0.656077</td>\n",
       "      <td>0.000824</td>\n",
       "      <td>0.000691</td>\n",
       "      <td>0.000050</td>\n",
       "    </tr>\n",
       "    <tr>\n",
       "      <th>4</th>\n",
       "      <td>0.590490</td>\n",
       "      <td>0.656100</td>\n",
       "      <td>0.000858</td>\n",
       "      <td>0.531441</td>\n",
       "    </tr>\n",
       "    <tr>\n",
       "      <th>5</th>\n",
       "      <td>0.000259</td>\n",
       "      <td>0.000648</td>\n",
       "      <td>0.000465</td>\n",
       "      <td>0.000953</td>\n",
       "    </tr>\n",
       "    <tr>\n",
       "      <th>6</th>\n",
       "      <td>0.000858</td>\n",
       "      <td>0.810000</td>\n",
       "      <td>0.000824</td>\n",
       "      <td>0.655874</td>\n",
       "    </tr>\n",
       "    <tr>\n",
       "      <th>7</th>\n",
       "      <td>0.000916</td>\n",
       "      <td>0.000207</td>\n",
       "      <td>0.000641</td>\n",
       "      <td>0.000108</td>\n",
       "    </tr>\n",
       "    <tr>\n",
       "      <th>8</th>\n",
       "      <td>0.656100</td>\n",
       "      <td>0.000894</td>\n",
       "      <td>0.729000</td>\n",
       "      <td>0.590490</td>\n",
       "    </tr>\n",
       "    <tr>\n",
       "      <th>9</th>\n",
       "      <td>0.656100</td>\n",
       "      <td>0.810000</td>\n",
       "      <td>0.810000</td>\n",
       "      <td>0.000858</td>\n",
       "    </tr>\n",
       "    <tr>\n",
       "      <th>10</th>\n",
       "      <td>0.729000</td>\n",
       "      <td>0.900000</td>\n",
       "      <td>0.000819</td>\n",
       "      <td>0.729000</td>\n",
       "    </tr>\n",
       "    <tr>\n",
       "      <th>11</th>\n",
       "      <td>0.000585</td>\n",
       "      <td>0.000331</td>\n",
       "      <td>0.000747</td>\n",
       "      <td>0.000910</td>\n",
       "    </tr>\n",
       "    <tr>\n",
       "      <th>12</th>\n",
       "      <td>0.000994</td>\n",
       "      <td>0.000473</td>\n",
       "      <td>0.000926</td>\n",
       "      <td>0.000121</td>\n",
       "    </tr>\n",
       "    <tr>\n",
       "      <th>13</th>\n",
       "      <td>0.000894</td>\n",
       "      <td>0.810000</td>\n",
       "      <td>0.900000</td>\n",
       "      <td>0.729000</td>\n",
       "    </tr>\n",
       "    <tr>\n",
       "      <th>14</th>\n",
       "      <td>0.810000</td>\n",
       "      <td>0.900000</td>\n",
       "      <td>1.000000</td>\n",
       "      <td>0.810000</td>\n",
       "    </tr>\n",
       "    <tr>\n",
       "      <th>15</th>\n",
       "      <td>0.000000</td>\n",
       "      <td>0.000000</td>\n",
       "      <td>0.000000</td>\n",
       "      <td>0.000000</td>\n",
       "    </tr>\n",
       "  </tbody>\n",
       "</table>\n",
       "</div>"
      ],
      "text/plain": [
       "           0         1         2         3\n",
       "0   0.531441  0.590490  0.590490  0.531441\n",
       "1   0.531441  0.000858  0.656100  0.590490\n",
       "2   0.590490  0.729000  0.589737  0.656100\n",
       "3   0.656077  0.000824  0.000691  0.000050\n",
       "4   0.590490  0.656100  0.000858  0.531441\n",
       "5   0.000259  0.000648  0.000465  0.000953\n",
       "6   0.000858  0.810000  0.000824  0.655874\n",
       "7   0.000916  0.000207  0.000641  0.000108\n",
       "8   0.656100  0.000894  0.729000  0.590490\n",
       "9   0.656100  0.810000  0.810000  0.000858\n",
       "10  0.729000  0.900000  0.000819  0.729000\n",
       "11  0.000585  0.000331  0.000747  0.000910\n",
       "12  0.000994  0.000473  0.000926  0.000121\n",
       "13  0.000894  0.810000  0.900000  0.729000\n",
       "14  0.810000  0.900000  1.000000  0.810000\n",
       "15  0.000000  0.000000  0.000000  0.000000"
      ]
     },
     "execution_count": 50,
     "metadata": {
      "tags": []
     },
     "output_type": "execute_result"
    }
   ],
   "source": [
    "Q"
   ]
  },
  {
   "cell_type": "code",
   "execution_count": 51,
   "metadata": {
    "id": "UN_tSzGpScxG"
   },
   "outputs": [],
   "source": [
    "%matplotlib inline"
   ]
  },
  {
   "cell_type": "code",
   "execution_count": 52,
   "metadata": {
    "colab": {
     "base_uri": "https://localhost:8080/",
     "height": 295
    },
    "id": "NM5W4AlyTapL",
    "outputId": "71ec46db-d0cd-4a80-cffe-4145d0cdf630"
   },
   "outputs": [
    {
     "data": {
      "image/png": "[encoded data removed]",
      "text/plain": [
       "<Figure size 432x288 with 1 Axes>"
      ]
     },
     "metadata": {
      "needs_background": "light",
      "tags": []
     },
     "output_type": "display_data"
    }
   ],
   "source": [
    "plt.axhline(y=6, color='green', linestyle='-')\n",
    "plt.bar(np.arange(0, 1000), steps_total, \n",
    "        width = 0.4, color = 'blue')\n",
    "plt.xlabel('episode index')\n",
    "plt.ylabel('number of steps taken')\n",
    "plt.title(' Restricted 4x4 Negative Rewards')\n",
    "plt.show()"
   ]
  },
  {
   "cell_type": "code",
   "execution_count": 55,
   "metadata": {
    "colab": {
     "base_uri": "https://localhost:8080/",
     "height": 312
    },
    "id": "LsbOjyv7O5l7",
    "outputId": "9aa7f9ba-087b-44b7-a8c3-997082f5138c"
   },
   "outputs": [
    {
     "data": {
      "text/plain": [
       "Text(0, 0.5, 'reward')"
      ]
     },
     "execution_count": 55,
     "metadata": {
      "tags": []
     },
     "output_type": "execute_result"
    },
    {
     "data": {
      "image/png": "[encoded data removed]",
      "text/plain": [
       "<Figure size 432x288 with 1 Axes>"
      ]
     },
     "metadata": {
      "needs_background": "light",
      "tags": []
     },
     "output_type": "display_data"
    }
   ],
   "source": [
    "plt.scatter(np.arange(0, 1000), rewards_total, s = 0.5, color = 'blue')\n",
    "plt.title('Restricted 4x4 Negative Rewards')\n",
    "plt.xlabel('episode')\n",
    "plt.ylabel('reward')"
   ]
  },
  {
   "cell_type": "code",
   "execution_count": 17,
   "metadata": {
    "colab": {
     "base_uri": "https://localhost:8080/",
     "height": 521
    },
    "id": "Ja-cT6K1O9VW",
    "outputId": "b420308b-77e9-40b0-9de2-0a2edc25950d"
   },
   "outputs": [
    {
     "data": {
      "text/html": [
       "<div>\n",
       "<style scoped>\n",
       "    .dataframe tbody tr th:only-of-type {\n",
       "        vertical-align: middle;\n",
       "    }\n",
       "\n",
       "    .dataframe tbody tr th {\n",
       "        vertical-align: top;\n",
       "    }\n",
       "\n",
       "    .dataframe thead th {\n",
       "        text-align: right;\n",
       "    }\n",
       "</style>\n",
       "<table border=\"1\" class=\"dataframe\">\n",
       "  <thead>\n",
       "    <tr style=\"text-align: right;\">\n",
       "      <th></th>\n",
       "      <th>0</th>\n",
       "      <th>1</th>\n",
       "      <th>2</th>\n",
       "      <th>3</th>\n",
       "    </tr>\n",
       "  </thead>\n",
       "  <tbody>\n",
       "    <tr>\n",
       "      <th>0</th>\n",
       "      <td>0.000724</td>\n",
       "      <td>0.000805</td>\n",
       "      <td>0.000805</td>\n",
       "      <td>0.000724</td>\n",
       "    </tr>\n",
       "    <tr>\n",
       "      <th>1</th>\n",
       "      <td>0.000724</td>\n",
       "      <td>0.000894</td>\n",
       "      <td>0.000724</td>\n",
       "      <td>0.000805</td>\n",
       "    </tr>\n",
       "    <tr>\n",
       "      <th>2</th>\n",
       "      <td>0.000805</td>\n",
       "      <td>0.000667</td>\n",
       "      <td>0.000652</td>\n",
       "      <td>0.000724</td>\n",
       "    </tr>\n",
       "    <tr>\n",
       "      <th>3</th>\n",
       "      <td>0.000724</td>\n",
       "      <td>0.000687</td>\n",
       "      <td>0.000652</td>\n",
       "      <td>0.000650</td>\n",
       "    </tr>\n",
       "    <tr>\n",
       "      <th>4</th>\n",
       "      <td>0.000805</td>\n",
       "      <td>0.000736</td>\n",
       "      <td>0.000894</td>\n",
       "      <td>0.000724</td>\n",
       "    </tr>\n",
       "    <tr>\n",
       "      <th>5</th>\n",
       "      <td>0.000666</td>\n",
       "      <td>0.000994</td>\n",
       "      <td>0.000744</td>\n",
       "      <td>0.000937</td>\n",
       "    </tr>\n",
       "    <tr>\n",
       "      <th>6</th>\n",
       "      <td>0.000363</td>\n",
       "      <td>0.000710</td>\n",
       "      <td>0.000695</td>\n",
       "      <td>0.000073</td>\n",
       "    </tr>\n",
       "    <tr>\n",
       "      <th>7</th>\n",
       "      <td>0.000682</td>\n",
       "      <td>0.000504</td>\n",
       "      <td>0.000499</td>\n",
       "      <td>0.000769</td>\n",
       "    </tr>\n",
       "    <tr>\n",
       "      <th>8</th>\n",
       "      <td>0.000735</td>\n",
       "      <td>0.000818</td>\n",
       "      <td>0.000736</td>\n",
       "      <td>0.000655</td>\n",
       "    </tr>\n",
       "    <tr>\n",
       "      <th>9</th>\n",
       "      <td>0.000678</td>\n",
       "      <td>0.000663</td>\n",
       "      <td>0.000726</td>\n",
       "      <td>0.000420</td>\n",
       "    </tr>\n",
       "    <tr>\n",
       "      <th>10</th>\n",
       "      <td>0.000378</td>\n",
       "      <td>0.000822</td>\n",
       "      <td>0.000770</td>\n",
       "      <td>0.000679</td>\n",
       "    </tr>\n",
       "    <tr>\n",
       "      <th>11</th>\n",
       "      <td>0.000709</td>\n",
       "      <td>0.000072</td>\n",
       "      <td>0.000912</td>\n",
       "      <td>0.000221</td>\n",
       "    </tr>\n",
       "    <tr>\n",
       "      <th>12</th>\n",
       "      <td>0.000692</td>\n",
       "      <td>0.000145</td>\n",
       "      <td>0.000909</td>\n",
       "      <td>0.000158</td>\n",
       "    </tr>\n",
       "    <tr>\n",
       "      <th>13</th>\n",
       "      <td>0.000140</td>\n",
       "      <td>0.000900</td>\n",
       "      <td>0.000365</td>\n",
       "      <td>0.000353</td>\n",
       "    </tr>\n",
       "    <tr>\n",
       "      <th>14</th>\n",
       "      <td>0.000691</td>\n",
       "      <td>0.000536</td>\n",
       "      <td>0.900092</td>\n",
       "      <td>0.000729</td>\n",
       "    </tr>\n",
       "    <tr>\n",
       "      <th>15</th>\n",
       "      <td>0.000000</td>\n",
       "      <td>0.000000</td>\n",
       "      <td>0.000000</td>\n",
       "      <td>0.000000</td>\n",
       "    </tr>\n",
       "  </tbody>\n",
       "</table>\n",
       "</div>"
      ],
      "text/plain": [
       "           0         1         2         3\n",
       "0   0.000724  0.000805  0.000805  0.000724\n",
       "1   0.000724  0.000894  0.000724  0.000805\n",
       "2   0.000805  0.000667  0.000652  0.000724\n",
       "3   0.000724  0.000687  0.000652  0.000650\n",
       "4   0.000805  0.000736  0.000894  0.000724\n",
       "5   0.000666  0.000994  0.000744  0.000937\n",
       "6   0.000363  0.000710  0.000695  0.000073\n",
       "7   0.000682  0.000504  0.000499  0.000769\n",
       "8   0.000735  0.000818  0.000736  0.000655\n",
       "9   0.000678  0.000663  0.000726  0.000420\n",
       "10  0.000378  0.000822  0.000770  0.000679\n",
       "11  0.000709  0.000072  0.000912  0.000221\n",
       "12  0.000692  0.000145  0.000909  0.000158\n",
       "13  0.000140  0.000900  0.000365  0.000353\n",
       "14  0.000691  0.000536  0.900092  0.000729\n",
       "15  0.000000  0.000000  0.000000  0.000000"
      ]
     },
     "execution_count": 17,
     "metadata": {
      "tags": []
     },
     "output_type": "execute_result"
    }
   ],
   "source": [
    "Q"
   ]
  },
  {
   "cell_type": "code",
   "execution_count": 17,
   "metadata": {
    "id": "dVwtWKmEPT89"
   },
   "outputs": [],
   "source": []
  }
 ],
 "metadata": {
  "colab": {
   "collapsed_sections": [],
   "name": "Base_4x4.ipynb",
   "provenance": []
  },
  "kernelspec": {
   "display_name": "Python 3 (ipykernel)",
   "language": "python",
   "name": "python3"
  },
  "language_info": {
   "codemirror_mode": {
    "name": "ipython",
    "version": 3
   },
   "file_extension": ".py",
   "mimetype": "text/x-python",
   "name": "python",
   "nbconvert_exporter": "python",
   "pygments_lexer": "ipython3",
   "version": "3.7.4"
  }
 },
 "nbformat": 4,
 "nbformat_minor": 1
}
